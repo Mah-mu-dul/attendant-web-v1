{
 "cells": [
  {
   "cell_type": "code",
   "execution_count": 12,
   "metadata": {},
   "outputs": [
    {
     "name": "stdout",
     "output_type": "stream",
     "text": [
      "not find\n",
      "not find\n"
     ]
    },
    {
     "ename": "KeyError",
     "evalue": "'1'",
     "output_type": "error",
     "traceback": [
      "\u001b[1;31m---------------------------------------------------------------------------\u001b[0m",
      "\u001b[1;31mKeyError\u001b[0m                                  Traceback (most recent call last)",
      "\u001b[1;32mf:\\competitive\\Mars Rover\\teamAttandentWebsite\\attandent-v1\\src\\components\\deleteme.ipynb Cell 1\u001b[0m in \u001b[0;36m6\n\u001b[0;32m      <a href='vscode-notebook-cell:/f%3A/competitive/Mars%20Rover/teamAttandentWebsite/attandent-v1/src/components/deleteme.ipynb#W0sZmlsZQ%3D%3D?line=3'>4</a>\u001b[0m arr \u001b[39m=\u001b[39m {\u001b[39m\"\u001b[39m\u001b[39m2\u001b[39m\u001b[39m\"\u001b[39m: \u001b[39m6\u001b[39m, \u001b[39m\"\u001b[39m\u001b[39m4\u001b[39m\u001b[39m\"\u001b[39m: \u001b[39m5\u001b[39m}\n\u001b[0;32m      <a href='vscode-notebook-cell:/f%3A/competitive/Mars%20Rover/teamAttandentWebsite/attandent-v1/src/components/deleteme.ipynb#W0sZmlsZQ%3D%3D?line=4'>5</a>\u001b[0m \u001b[39mfor\u001b[39;00m i \u001b[39min\u001b[39;00m a:\n\u001b[1;32m----> <a href='vscode-notebook-cell:/f%3A/competitive/Mars%20Rover/teamAttandentWebsite/attandent-v1/src/components/deleteme.ipynb#W0sZmlsZQ%3D%3D?line=5'>6</a>\u001b[0m     \u001b[39mif\u001b[39;00m (arr[\u001b[39mstr\u001b[39;49m(i)] \u001b[39m>\u001b[39m \u001b[39m0\u001b[39m):\n\u001b[0;32m      <a href='vscode-notebook-cell:/f%3A/competitive/Mars%20Rover/teamAttandentWebsite/attandent-v1/src/components/deleteme.ipynb#W0sZmlsZQ%3D%3D?line=6'>7</a>\u001b[0m         \u001b[39mprint\u001b[39m(\u001b[39m\"\u001b[39m\u001b[39mnot find\u001b[39m\u001b[39m\"\u001b[39m)\n",
      "\u001b[1;31mKeyError\u001b[0m: '1'"
     ]
    }
   ],
   "source": [
    "n = 4\n",
    "a = [int(i) for i in \"2 4 1 4 2\".split(\" \")]\n",
    "\n",
    "arr = {\"2\": 6, \"4\": 5}\n",
    "for i in a:\n",
    "    \n"
   ]
  },
  {
   "cell_type": "code",
   "execution_count": 30,
   "metadata": {},
   "outputs": [
    {
     "name": "stdout",
     "output_type": "stream",
     "text": [
      "IGNORE HIM!\n"
     ]
    }
   ],
   "source": [
    "x = set(input())\n",
    "if len(x) % 2 == 0:\n",
    "    print(\"CHAT WITH HER!\")\n",
    "else:\n",
    "    print(\"IGNORE HIM!\")\n"
   ]
  },
  {
   "cell_type": "code",
   "execution_count": 42,
   "metadata": {},
   "outputs": [
    {
     "name": "stdout",
     "output_type": "stream",
     "text": [
      "hasan jaddouh\n",
      "farhod\n",
      "kerim\n",
      "hasan khateeb\n"
     ]
    }
   ],
   "source": [
    "t = int(input())\n",
    "# t = 1\n",
    "for i in range(t):\n",
    "    n = int(input())\n",
    "    l = list()\n",
    "    for i in range(n):\n",
    "        t = input().split(\" \")\n",
    "        l.append(t)\n",
    "\n",
    "    final = []\n",
    "    count = 0\n",
    "    for i in range(len(l)):\n",
    "        for j in range(len(l)):\n",
    "            if i != j and l[i][0] == l[j][0]:\n",
    "                final.append(True)\n",
    "                break\n",
    "        else:\n",
    "            final.append(False)\n",
    "\n",
    "    for i in range(len(l)):\n",
    "        if final[i]:\n",
    "            print(l[i][0], l[i][1])\n",
    "        else:\n",
    "            print(l[i][0])\n"
   ]
  }
 ],
 "metadata": {
  "kernelspec": {
   "display_name": "Python 3",
   "language": "python",
   "name": "python3"
  },
  "language_info": {
   "codemirror_mode": {
    "name": "ipython",
    "version": 3
   },
   "file_extension": ".py",
   "mimetype": "text/x-python",
   "name": "python",
   "nbconvert_exporter": "python",
   "pygments_lexer": "ipython3",
   "version": "3.10.8"
  },
  "orig_nbformat": 4
 },
 "nbformat": 4,
 "nbformat_minor": 2
}
